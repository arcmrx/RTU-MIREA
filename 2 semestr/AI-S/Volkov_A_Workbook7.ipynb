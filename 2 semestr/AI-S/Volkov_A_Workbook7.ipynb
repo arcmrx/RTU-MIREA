{
  "nbformat": 4,
  "nbformat_minor": 0,
  "metadata": {
    "colab": {
      "provenance": []
    },
    "kernelspec": {
      "name": "python3",
      "display_name": "Python 3"
    },
    "language_info": {
      "name": "python"
    }
  },
  "cells": [
    {
      "cell_type": "code",
      "execution_count": 7,
      "metadata": {
        "colab": {
          "base_uri": "https://localhost:8080/"
        },
        "id": "zwtMcqQdawNS",
        "outputId": "a1f633b3-e9b9-4689-c49c-c117214f8e7f"
      },
      "outputs": [
        {
          "output_type": "stream",
          "name": "stdout",
          "text": [
            "0.8175744761936437\n"
          ]
        }
      ],
      "source": [
        "#1.1.1\n",
        "\n",
        "import numpy as np\n",
        "def sigmoid(x):\n",
        "    return 1 / (1 + np.exp(-x))\n",
        "\n",
        "class Neuron:\n",
        "    def __init__(self, weights, bias):\n",
        "        self.weights = weights\n",
        "        self.bias = bias\n",
        "    def feedforward(self, inputs):\n",
        "        total = np.dot(self.weights, inputs) + self.bias\n",
        "        return sigmoid(total)\n",
        "\n",
        "import numpy as np\n",
        "class OurNeuralNetwork1:\n",
        "    '''\n",
        "    Данные нейросети:\n",
        "        - три входа\n",
        "        - три нейрона в скрытых слоях (h1, h2, h3)\n",
        "        - выход (o1)\n",
        "    Нейроны имеют идентичные веса и пороги:\n",
        "        - w = [0.5, 0.5, 0.5]\n",
        "        - b = 0\n",
        "    '''\n",
        "    def __init__(self):\n",
        "        weights = np.array([0.5, 0.5, 0.5])\n",
        "        bias = 0\n",
        "\n",
        "        self.h1 = Neuron(weights, bias)\n",
        "        self.h2 = Neuron(weights, bias)\n",
        "        self.h3 = Neuron(weights, bias)\n",
        "        self.o1 = Neuron(weights, bias)\n",
        "\n",
        "    def feedforward(self, x):\n",
        "        out_h1 = self.h1.feedforward(x)\n",
        "        out_h2 = self.h2.feedforward(x)\n",
        "        out_h3 = self.h3.feedforward(x)\n",
        "\n",
        "        out_o1 = self.o1.feedforward(np.array([out_h1, out_h2, out_h3]))\n",
        "        return out_o1\n",
        "\n",
        "network = OurNeuralNetwork1()\n",
        "x = np.array([0, 10, 100])\n",
        "print(network.feedforward(x))"
      ]
    },
    {
      "cell_type": "code",
      "source": [
        "#1.2.1\n",
        "\n",
        "import numpy as np\n",
        "\n",
        "def sigmoid(x):\n",
        "    return 1 / (1 + np.exp(-x))\n",
        "\n",
        "class Neuron:\n",
        "    def __init__(self, weights, bias):\n",
        "        self.weights = weights\n",
        "        self.bias = bias\n",
        "    def feedforward(self, inputs):\n",
        "        total = np.dot(self.weights, inputs) + self.bias\n",
        "        return sigmoid(total)\n",
        "\n",
        "class OurNeuralNetwork:\n",
        "\n",
        "    def __init__(self):\n",
        "        weights = np.array([0.5, 0.5, 0.5])\n",
        "        bias = 0\n",
        "        self.h1 = Neuron(weights, bias)\n",
        "        self.h2 = Neuron(weights, bias)\n",
        "        self.h3 = Neuron(weights, bias)\n",
        "        self.o1 = Neuron(weights, bias)\n",
        "\n",
        "    def feedforward(self, x):\n",
        "        out_h1 = self.h1.feedforward(x)\n",
        "        out_h2 = self.h2.feedforward(x)\n",
        "        out_h3 = self.h3.feedforward(x)\n",
        "        out_o1 = self.o1.feedforward(np.array([out_h1, out_h2, out_h3]))\n",
        "        return out_o1\n",
        "\n",
        "network = OurNeuralNetwork()\n",
        "x = np.array([2, 3, 4])\n",
        "print(network.feedforward(x))"
      ],
      "metadata": {
        "colab": {
          "base_uri": "https://localhost:8080/"
        },
        "id": "Ux-v3gl8jhFT",
        "outputId": "8992901a-4424-4997-a92f-6383d4ff5081"
      },
      "execution_count": 8,
      "outputs": [
        {
          "output_type": "stream",
          "name": "stdout",
          "text": [
            "0.8151036049051821\n"
          ]
        }
      ]
    },
    {
      "cell_type": "code",
      "source": [
        "#1.2.2\n",
        "\n",
        "import numpy as np\n",
        "\n",
        "def tanh(x):\n",
        "    return np.tanh(x)\n",
        "\n",
        "class Neuron:\n",
        "    def __init__(self, weights, bias):\n",
        "        self.weights = weights\n",
        "        self.bias = bias\n",
        "    def feedforward(self, inputs):\n",
        "        total = np.dot(self.weights, inputs) + self.bias\n",
        "        return tanh(total)\n",
        "\n",
        "class OurNeuralNetwork:\n",
        "\n",
        "    def __init__(self):\n",
        "        weights = np.array([0.5, 0.5, 0.5])\n",
        "        bias = 0\n",
        "        self.h1 = Neuron(weights, bias)\n",
        "        self.h2 = Neuron(weights, bias)\n",
        "        self.h3 = Neuron(weights, bias)\n",
        "        self.o1 = Neuron(weights, bias)\n",
        "\n",
        "    def feedforward(self, x):\n",
        "        out_h1 = self.h1.feedforward(x)\n",
        "        out_h2 = self.h2.feedforward(x)\n",
        "        out_h3 = self.h3.feedforward(x)\n",
        "        out_o1 = self.o1.feedforward(np.array([out_h1, out_h2, out_h3]))\n",
        "        return out_o1\n",
        "\n",
        "network = OurNeuralNetwork()\n",
        "x = np.array([2, 3, 4])\n",
        "print(network.feedforward(x))"
      ],
      "metadata": {
        "colab": {
          "base_uri": "https://localhost:8080/"
        },
        "id": "DX326le3jyjp",
        "outputId": "98923043-47fb-4acc-c20e-2685590de603"
      },
      "execution_count": 9,
      "outputs": [
        {
          "output_type": "stream",
          "name": "stdout",
          "text": [
            "0.9050813365686774\n"
          ]
        }
      ]
    },
    {
      "cell_type": "code",
      "source": [
        "#1.2.3\n",
        "\n",
        "import numpy as np\n",
        "\n",
        "def ReLU(x):\n",
        "    return max(0.0, x)\n",
        "\n",
        "class Neuron:\n",
        "    def __init__(self, weights, bias):\n",
        "        self.weights = weights\n",
        "        self.bias = bias\n",
        "    def feedforward(self, inputs):\n",
        "        total = np.dot(self.weights, inputs) + self.bias\n",
        "        return ReLU(total)\n",
        "\n",
        "class OurNeuralNetwork:\n",
        "\n",
        "    def __init__(self):\n",
        "        weights = np.array([0.5, 0.5, 0.5])\n",
        "        bias = 0\n",
        "        self.h1 = Neuron(weights, bias)\n",
        "        self.h2 = Neuron(weights, bias)\n",
        "        self.h3 = Neuron(weights, bias)\n",
        "        self.o1 = Neuron(weights, bias)\n",
        "\n",
        "    def feedforward(self, x):\n",
        "        out_h1 = self.h1.feedforward(x)\n",
        "        out_h2 = self.h2.feedforward(x)\n",
        "        out_h3 = self.h3.feedforward(x)\n",
        "        out_o1 = self.o1.feedforward(np.array([out_h1, out_h2, out_h3]))\n",
        "        return out_o1\n",
        "\n",
        "network = OurNeuralNetwork()\n",
        "x = np.array([2, 3, 4])\n",
        "print(network.feedforward(x))"
      ],
      "metadata": {
        "colab": {
          "base_uri": "https://localhost:8080/"
        },
        "id": "9TKG568gkJ8S",
        "outputId": "4cfadc5d-402c-4d8f-ed8c-a294224de4fc"
      },
      "execution_count": 10,
      "outputs": [
        {
          "output_type": "stream",
          "name": "stdout",
          "text": [
            "6.75\n"
          ]
        }
      ]
    },
    {
      "cell_type": "code",
      "source": [
        "#2.1.1\n",
        "\n",
        "import pandas as pd\n",
        "from sklearn.model_selection import train_test_split\n",
        "from sklearn.neural_network import MLPClassifier\n",
        "from sklearn.metrics import confusion_matrix\n",
        "\n",
        "url = r'https://gist.githubusercontent.com/netj/8836201/raw/6f9306ad21398ea43cba4f7d537619d0e07d5ae3/iris.csv'\n",
        "dataset = pd.read_csv(url)\n",
        "\n",
        "X = dataset.iloc[:, :-1].values\n",
        "Y = dataset.iloc[:, -1].values\n",
        "X_train, X_test, Y_train, Y_test = train_test_split(X, Y, train_size = 0.80, test_size = 0.20, stratify = Y, random_state = 123)\n",
        "\n",
        "mlp_classifier = MLPClassifier(max_iter = 1000).fit(X_train, Y_train)\n",
        "Y_pred = mlp_classifier.predict(X_test)\n",
        "\n",
        "df = pd.DataFrame({'Actual': Y_test, 'Predicted': Y_pred})\n",
        "print(df)\n",
        "\n",
        "print(\"\\nTest Accuracy: %.3f\"%mlp_classifier.score(X_test, Y_test))\n",
        "print('Training Accuracy: %.3f'%mlp_classifier.score(X_train, Y_train))\n",
        "print(f\"\\nMatrix of Confusion:\\n {confusion_matrix(Y_test, Y_pred)}\")\n",
        "print(f\"\\nLoss : \", mlp_classifier.loss_)\n",
        "print(f'Number of Coefs : ', len(mlp_classifier.coefs_))\n",
        "print(f'Number of Intercepts : ', len(mlp_classifier.intercepts_))\n",
        "print(f'Number of Iterations for Which Estimator Run : ', mlp_classifier.n_iter_)\n",
        "print(f'Name of Output Layer Activation Function : ', mlp_classifier.out_activation_)"
      ],
      "metadata": {
        "colab": {
          "base_uri": "https://localhost:8080/"
        },
        "id": "Plz6PhgtmaAM",
        "outputId": "94e42a89-b131-41f3-a61d-1efeb701f1b1"
      },
      "execution_count": 11,
      "outputs": [
        {
          "output_type": "stream",
          "name": "stdout",
          "text": [
            "        Actual   Predicted\n",
            "0   Versicolor  Versicolor\n",
            "1       Setosa      Setosa\n",
            "2    Virginica   Virginica\n",
            "3    Virginica   Virginica\n",
            "4       Setosa      Setosa\n",
            "5       Setosa      Setosa\n",
            "6    Virginica   Virginica\n",
            "7   Versicolor   Virginica\n",
            "8    Virginica   Virginica\n",
            "9       Setosa      Setosa\n",
            "10      Setosa      Setosa\n",
            "11  Versicolor  Versicolor\n",
            "12   Virginica   Virginica\n",
            "13  Versicolor  Versicolor\n",
            "14   Virginica   Virginica\n",
            "15  Versicolor  Versicolor\n",
            "16      Setosa      Setosa\n",
            "17      Setosa      Setosa\n",
            "18      Setosa      Setosa\n",
            "19      Setosa      Setosa\n",
            "20      Setosa      Setosa\n",
            "21   Virginica   Virginica\n",
            "22   Virginica   Virginica\n",
            "23  Versicolor  Versicolor\n",
            "24   Virginica   Virginica\n",
            "25   Virginica   Virginica\n",
            "26  Versicolor  Versicolor\n",
            "27  Versicolor  Versicolor\n",
            "28  Versicolor   Virginica\n",
            "29  Versicolor  Versicolor\n",
            "\n",
            "Test Accuracy: 0.933\n",
            "Training Accuracy: 0.992\n",
            "\n",
            "Matrix of Confusion:\n",
            " [[10  0  0]\n",
            " [ 0  8  2]\n",
            " [ 0  0 10]]\n",
            "\n",
            "Loss :  0.04939823431633523\n",
            "Number of Coefs :  2\n",
            "Number of Intercepts :  2\n",
            "Number of Iterations for Which Estimator Run :  485\n",
            "Name of Output Layer Activation Function :  softmax\n"
          ]
        }
      ]
    },
    {
      "cell_type": "code",
      "source": [
        "#2.1.2\n",
        "\n",
        "import pandas as pd\n",
        "from sklearn.model_selection import train_test_split\n",
        "from sklearn.neural_network import MLPRegressor\n",
        "\n",
        "url = r'https://raw.githubusercontent.com/AnnaShestova/salary-years-simple-linear-regression/master/Salary_Data.csv'\n",
        "data = pd.read_csv(url)\n",
        "\n",
        "X = data.iloc[:, :-1].values\n",
        "y = data.iloc[:, 1].values\n",
        "\n",
        "\n",
        "X_train, X_test, y_train, y_test = train_test_split(X, y, test_size=0.2, random_state=0)\n",
        "mlp = MLPRegressor(hidden_layer_sizes=(100, 50), max_iter=1000)\n",
        "mlp.fit(X_train, y_train)\n",
        "y_pred = mlp.predict(X_test)\n",
        "\n",
        "from sklearn.metrics import mean_squared_error, r2_score\n",
        "\n",
        "print(\"Mean squared error: %.2f\" % mean_squared_error(y_test, y_pred))\n",
        "print(\"R2 score: %.2f\" % r2_score(y_test, y_pred))\n",
        "\n",
        "print(mlp.n_layers_)\n",
        "print(mlp.hidden_layer_sizes)\n",
        "print(mlp.coefs_)"
      ],
      "metadata": {
        "colab": {
          "base_uri": "https://localhost:8080/"
        },
        "id": "fqX2VHgHmaxc",
        "outputId": "72e8be9a-2d8d-466a-d855-28074867132c"
      },
      "execution_count": 12,
      "outputs": [
        {
          "output_type": "stream",
          "name": "stdout",
          "text": [
            "Mean squared error: 1293211369.33\n",
            "R2 score: -0.19\n",
            "4\n",
            "(100, 50)\n",
            "[array([[ 1.73555509e+00,  1.87134983e+00,  1.75897637e+00,\n",
            "         1.67284613e+00,  1.95934704e+00,  9.83632486e-23,\n",
            "         5.30045127e-25,  4.26971502e-21,  1.77654860e+00,\n",
            "         5.02389665e-24, -8.66656381e-02,  8.15031978e-14,\n",
            "         1.92835776e+00,  1.54751983e+00,  1.95598459e+00,\n",
            "         9.85167593e-03,  1.93117160e+00, -2.19787508e-10,\n",
            "        -1.02191945e-01,  1.71829952e+00,  1.63834013e+00,\n",
            "         1.79428698e+00,  6.50061664e-26, -1.11072343e-11,\n",
            "         1.63948685e+00, -4.01448160e-11,  1.86628652e+00,\n",
            "         5.08339478e-03, -4.68395238e-02,  1.74235384e+00,\n",
            "         1.93683416e+00, -9.21972042e-02,  3.62035973e-24,\n",
            "        -1.19280009e-10,  1.59537399e+00, -4.66651806e-06,\n",
            "         1.90647047e+00,  1.83373270e+00,  4.42100672e-24,\n",
            "         1.87587628e+00,  1.89011347e+00,  6.94705140e-14,\n",
            "         1.75507767e+00,  1.82888781e+00,  7.92140389e-17,\n",
            "        -6.08424910e-22,  1.80704604e+00,  1.81639256e+00,\n",
            "         1.93304134e+00, -2.18096650e-11, -1.10954847e-18,\n",
            "         1.85631893e+00,  1.72104609e+00,  1.94590405e+00,\n",
            "         1.64046835e+00,  1.58831304e+00, -3.25287897e-22,\n",
            "         1.92754184e+00,  1.57796808e+00, -1.09249011e-24,\n",
            "        -1.43442857e-01, -1.45283327e-01,  1.72544766e+00,\n",
            "         1.89634508e+00,  1.86398411e+00,  1.98648680e+00,\n",
            "         1.82433214e+00,  1.33385720e-24,  2.27296887e-20,\n",
            "         1.80899000e+00,  1.96799249e+00, -8.96134715e-21,\n",
            "         1.95867320e+00, -6.07959081e-08,  1.59864756e+00,\n",
            "         1.88762920e+00,  4.38705395e-23,  1.76321388e+00,\n",
            "         1.85798062e+00, -2.74208890e-26, -2.57533903e-02,\n",
            "         1.77733534e+00, -1.23611288e-01,  1.76150127e+00,\n",
            "         1.82137234e+00,  1.75030104e+00, -1.48269909e-20,\n",
            "         2.27028773e-17,  1.55437705e-23, -5.92911993e-02,\n",
            "         1.53845518e+00, -8.69523350e-02, -1.99595728e-01,\n",
            "        -3.34031596e-21, -1.48156640e-10,  1.74158731e+00,\n",
            "         1.71954186e+00,  1.90047298e+00,  1.77538954e+00,\n",
            "         1.75933771e+00]]), array([[ 2.57872631e-02,  1.30964614e-01, -5.41453857e-10, ...,\n",
            "         1.72714214e+00, -1.99427310e-02,  8.83323212e-14],\n",
            "       [ 1.62445130e-01,  6.07751849e-02,  2.41912867e-25, ...,\n",
            "         1.63806959e+00, -1.98209204e-02, -1.16939204e-17],\n",
            "       [ 6.46144171e-02,  2.44817921e-02,  4.09870145e-24, ...,\n",
            "         1.83524611e+00, -1.98209111e-02,  7.75180912e-19],\n",
            "       ...,\n",
            "       [-6.09025778e-02, -7.06410278e-02, -6.26333150e-24, ...,\n",
            "         1.66016646e+00, -1.95712271e-02,  1.37120770e-15],\n",
            "       [ 7.57585973e-02, -1.10065975e-01, -7.23796175e-17, ...,\n",
            "         1.76748740e+00, -1.97312451e-02, -6.29967296e-22],\n",
            "       [-5.43617367e-02, -9.32591310e-02, -7.02128183e-25, ...,\n",
            "         1.80300450e+00, -1.98209175e-02,  5.17934914e-14]]), array([[-9.40305962e-02],\n",
            "       [-2.06017879e-01],\n",
            "       [-1.01372461e-19],\n",
            "       [-9.98223225e-06],\n",
            "       [-5.63835412e-02],\n",
            "       [-1.75659325e-02],\n",
            "       [ 1.99083598e+00],\n",
            "       [ 2.03696366e+00],\n",
            "       [-1.25560280e-01],\n",
            "       [ 2.05395246e+00],\n",
            "       [-3.50915895e-02],\n",
            "       [-8.21110276e-02],\n",
            "       [ 1.81178698e+00],\n",
            "       [-1.46599680e-02],\n",
            "       [-7.89276155e-26],\n",
            "       [ 1.98335198e+00],\n",
            "       [ 4.92523937e-05],\n",
            "       [-3.35282212e-02],\n",
            "       [ 5.86724357e-24],\n",
            "       [ 2.08992877e+00],\n",
            "       [ 2.02453601e+00],\n",
            "       [-3.17344980e-01],\n",
            "       [-2.58787926e-01],\n",
            "       [-2.55427344e-01],\n",
            "       [ 1.68047854e+00],\n",
            "       [-7.88906481e-02],\n",
            "       [-4.05913637e-07],\n",
            "       [ 1.31541847e-02],\n",
            "       [ 1.90790637e+00],\n",
            "       [ 1.73302232e-02],\n",
            "       [ 1.75723977e+00],\n",
            "       [ 1.94317479e+00],\n",
            "       [ 1.85527335e+00],\n",
            "       [-1.35964728e-01],\n",
            "       [ 1.90757269e+00],\n",
            "       [ 1.43177014e-23],\n",
            "       [ 2.01596660e+00],\n",
            "       [-4.06848905e-02],\n",
            "       [-2.71664814e-02],\n",
            "       [-2.91440302e-01],\n",
            "       [ 2.11521307e+00],\n",
            "       [ 1.96692623e+00],\n",
            "       [-1.66055240e-10],\n",
            "       [ 1.78882236e+00],\n",
            "       [ 1.76767377e+00],\n",
            "       [ 1.88535452e+00],\n",
            "       [ 1.37493216e+00],\n",
            "       [ 2.03092094e+00],\n",
            "       [-1.87421477e-02],\n",
            "       [ 8.41545568e-17]])]\n"
          ]
        },
        {
          "output_type": "stream",
          "name": "stderr",
          "text": [
            "/usr/local/lib/python3.10/dist-packages/sklearn/neural_network/_multilayer_perceptron.py:686: ConvergenceWarning: Stochastic Optimizer: Maximum iterations (1000) reached and the optimization hasn't converged yet.\n",
            "  warnings.warn(\n"
          ]
        }
      ]
    }
  ]
}