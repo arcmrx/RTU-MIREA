{
  "nbformat": 4,
  "nbformat_minor": 0,
  "metadata": {
    "colab": {
      "provenance": []
    },
    "kernelspec": {
      "name": "python3",
      "display_name": "Python 3"
    },
    "language_info": {
      "name": "python"
    }
  },
  "cells": [
    {
      "cell_type": "code",
      "execution_count": null,
      "metadata": {
        "colab": {
          "base_uri": "https://localhost:8080/"
        },
        "id": "3ff7P7dfWIqq",
        "outputId": "78b51324-039e-415f-c3f4-55bc29642d68"
      },
      "outputs": [
        {
          "output_type": "stream",
          "name": "stdout",
          "text": [
            "[[1 0 1 0 1 0 1 0]\n",
            " [0 1 0 1 0 1 0 1]\n",
            " [1 0 1 0 1 0 1 0]\n",
            " [0 1 0 1 0 1 0 1]\n",
            " [1 0 1 0 1 0 1 0]\n",
            " [0 1 0 1 0 1 0 1]\n",
            " [1 0 1 0 1 0 1 0]\n",
            " [0 1 0 1 0 1 0 1]]\n"
          ]
        }
      ],
      "source": [
        "#1.3.1\n",
        "import numpy as np\n",
        "\n",
        "A = np.arange(64).reshape(8, 8)\n",
        "for i in range (0, 7, 2):\n",
        "  a = np.zeros(8)\n",
        "  b = np.ones(4)\n",
        "  a[::2] = b\n",
        "  A[i] = a\n",
        "  # a = np.ones(8)\n",
        "  # b = np.zeros(4)\n",
        "  # a[::2] = b\n",
        "  A[i + 1] = np.flip(a)\n",
        "print(A)"
      ]
    },
    {
      "cell_type": "code",
      "source": [
        "#1.3.2\n",
        "import numpy as np\n",
        "\n",
        "A = np.arange(25).reshape(5, 5)\n",
        "\n",
        "for i in range (1, 5):\n",
        "  A[i] = A[0]\n",
        "print(A)"
      ],
      "metadata": {
        "colab": {
          "base_uri": "https://localhost:8080/"
        },
        "id": "Ro9_gWgncQE6",
        "outputId": "fc1d79d3-6a98-4edd-a992-e302dbd1790e"
      },
      "execution_count": null,
      "outputs": [
        {
          "output_type": "stream",
          "name": "stdout",
          "text": [
            "[[0 1 2 3 4]\n",
            " [0 1 2 3 4]\n",
            " [0 1 2 3 4]\n",
            " [0 1 2 3 4]\n",
            " [0 1 2 3 4]]\n"
          ]
        }
      ]
    },
    {
      "cell_type": "code",
      "source": [
        "#1.3.3\n",
        "import numpy as np\n",
        "\n",
        "A = np.random.random((3,3,3))\n",
        "print(A)"
      ],
      "metadata": {
        "colab": {
          "base_uri": "https://localhost:8080/"
        },
        "id": "tCn_6P7dc5Cj",
        "outputId": "bdf3af61-de7e-464d-9328-4c77e77416bc"
      },
      "execution_count": null,
      "outputs": [
        {
          "output_type": "stream",
          "name": "stdout",
          "text": [
            "[[[0.36120925 0.43993932 0.97778228]\n",
            "  [0.66211888 0.74671363 0.18551443]\n",
            "  [0.5902114  0.69244724 0.65230969]]\n",
            "\n",
            " [[0.61516497 0.80806354 0.19042088]\n",
            "  [0.67617038 0.90930201 0.31192291]\n",
            "  [0.63188104 0.48370044 0.04798787]]\n",
            "\n",
            " [[0.56869263 0.64523843 0.6523958 ]\n",
            "  [0.87949785 0.02806429 0.88822162]\n",
            "  [0.3366643  0.64288013 0.02800001]]]\n"
          ]
        }
      ]
    },
    {
      "cell_type": "code",
      "source": [
        "#1.3.4\n",
        "import numpy as np\n",
        "\n",
        "n = int(input())\n",
        "m = int(input())\n",
        "\n",
        "A = np.zeros((n, m))\n",
        "for i in range(0, len(A[0])):\n",
        "  A[0, i] = 1\n",
        "  A[len(A)-1, i] = 1\n",
        "\n",
        "for i in range(0, len(A)):\n",
        "  A[i, 0] = 1\n",
        "  A[i, len(A[0]) - 1] = 1\n",
        "print(A)"
      ],
      "metadata": {
        "colab": {
          "base_uri": "https://localhost:8080/"
        },
        "id": "ccN8LqKbdyG9",
        "outputId": "60aa830a-841f-4b57-9c77-137ffbe6e4fc"
      },
      "execution_count": null,
      "outputs": [
        {
          "output_type": "stream",
          "name": "stdout",
          "text": [
            "5\n",
            "10\n",
            "[[1. 1. 1. 1. 1. 1. 1. 1. 1. 1.]\n",
            " [1. 0. 0. 0. 0. 0. 0. 0. 0. 1.]\n",
            " [1. 0. 0. 0. 0. 0. 0. 0. 0. 1.]\n",
            " [1. 0. 0. 0. 0. 0. 0. 0. 0. 1.]\n",
            " [1. 1. 1. 1. 1. 1. 1. 1. 1. 1.]]\n"
          ]
        }
      ]
    },
    {
      "cell_type": "code",
      "source": [
        "#1.3.5\n",
        "import numpy as np\n",
        "\n",
        "arr = np.array([2, 1, 5, 3, 7, 4, 6, 8])\n",
        "print(np.sort(arr)[::-1])"
      ],
      "metadata": {
        "colab": {
          "base_uri": "https://localhost:8080/"
        },
        "id": "fgAwiGMZHkSm",
        "outputId": "6aa4039e-9e79-4110-d838-256d5743ef0e"
      },
      "execution_count": null,
      "outputs": [
        {
          "output_type": "stream",
          "name": "stdout",
          "text": [
            "[8 7 6 5 4 3 2 1]\n"
          ]
        }
      ]
    },
    {
      "cell_type": "code",
      "source": [
        "#1.3.6\n",
        "import numpy as np\n",
        "\n",
        "n = int(input())\n",
        "m = int(input())\n",
        "\n",
        "A = np.random.random((n,m))\n",
        "if len(A) == 0 or (len(A[0])) == 0:\n",
        "  print(\"Матрица не существует!\")\n",
        "elif len(A) == (len(A[0])):\n",
        "  print(\"Квадратная матрица\\nРазмер: \", len(A)*(len(A[0])),\"\\nРазмерность: \", len(A), \"x\", (len(A[0])))\n",
        "elif len(A) != (len(A[0])):\n",
        "  print(\"Прямоугольная матрица\\nРазмер: \", len(A)*(len(A[0])),\"\\nРазмерность: \", len(A), \"x\", (len(A[0])))"
      ],
      "metadata": {
        "colab": {
          "base_uri": "https://localhost:8080/"
        },
        "id": "DEkAIdzNIK2C",
        "outputId": "3a666195-8fb7-4d3a-b814-1b3618d70d50"
      },
      "execution_count": null,
      "outputs": [
        {
          "output_type": "stream",
          "name": "stdout",
          "text": [
            "5\n",
            "1\n",
            "Прямоугольная матрица\n",
            "Размер:  5 \n",
            "Размерность:  5 x 1\n"
          ]
        }
      ]
    },
    {
      "cell_type": "code",
      "source": [
        "#2.3.1\n",
        "import pandas as pd\n",
        "import numpy as np\n",
        "\n",
        "a = pd.Series([2, 4, 6, 8])\n",
        "b = pd.Series([1, 3, 5, 7])\n",
        "\n",
        "dist = np.sqrt(np.sum((a - b)**2))\n",
        "\n",
        "print(dist)"
      ],
      "metadata": {
        "id": "cUSRZiSmK7BJ",
        "colab": {
          "base_uri": "https://localhost:8080/"
        },
        "outputId": "f71f0125-475b-4abf-8645-1b799cc104ba"
      },
      "execution_count": null,
      "outputs": [
        {
          "output_type": "stream",
          "name": "stdout",
          "text": [
            "2.0\n"
          ]
        }
      ]
    },
    {
      "cell_type": "code",
      "source": [
        "#2.3.2\n",
        "import pandas as pd\n",
        "import numpy as np\n",
        "\n",
        "url = 'https://raw.githubusercontent.com/akmand/datasets/main/FMLPDA_Table4_3.csv'\n",
        "dataframe = pd.read_csv(url)\n",
        "print(dataframe.head())"
      ],
      "metadata": {
        "colab": {
          "base_uri": "https://localhost:8080/"
        },
        "id": "uiDCMdsmubmq",
        "outputId": "1271d6ae-4599-4f32-a007-5be7fd310d08"
      },
      "execution_count": null,
      "outputs": [
        {
          "output_type": "stream",
          "name": "stdout",
          "text": [
            "   stream     slope elevation vegetation\n",
            "0   False     steep      high  chapparal\n",
            "1    True  moderate       low   riparian\n",
            "2    True     steep    medium   riparian\n",
            "3   False     steep    medium  chapparal\n",
            "4   False      flat      high    conifer\n"
          ]
        }
      ]
    },
    {
      "cell_type": "code",
      "source": [
        "#2.3.3\n",
        "import pandas as pd\n",
        "import numpy as np\n",
        "\n",
        "url = 'https://raw.githubusercontent.com/akmand/datasets/main/FMLPDA_Table4_3.csv'\n",
        "dataframe = pd.read_csv(url)\n",
        "print(dataframe)\n",
        "print(\"\\n\")\n",
        "#2.2.5\n",
        "print(dataframe.head(2))\n",
        "print(\"\\n\")\n",
        "print(dataframe.tail(3))\n",
        "print(\"\\n\")\n",
        "print(dataframe.shape)\n",
        "print(\"\\n\")\n",
        "print(dataframe.describe())\n",
        "print(\"\\n\")\n",
        "#2.2.6\n",
        "print(dataframe.iloc[2:4])\n",
        "print(\"\\n\")\n",
        "#2.2.7\n",
        "print(dataframe[dataframe['slope'] == 'steep'].head())"
      ],
      "metadata": {
        "colab": {
          "base_uri": "https://localhost:8080/"
        },
        "id": "nWUrxV30wtV6",
        "outputId": "19b6f5fa-ceaa-4f92-887c-4703b3380108"
      },
      "execution_count": null,
      "outputs": [
        {
          "output_type": "stream",
          "name": "stdout",
          "text": [
            "   stream     slope elevation vegetation\n",
            "0   False     steep      high  chapparal\n",
            "1    True  moderate       low   riparian\n",
            "2    True     steep    medium   riparian\n",
            "3   False     steep    medium  chapparal\n",
            "4   False      flat      high    conifer\n",
            "5    True     steep   highest    conifer\n",
            "6    True     steep      high  chapparal\n",
            "\n",
            "\n",
            "   stream     slope elevation vegetation\n",
            "0   False     steep      high  chapparal\n",
            "1    True  moderate       low   riparian\n",
            "\n",
            "\n",
            "   stream  slope elevation vegetation\n",
            "4   False   flat      high    conifer\n",
            "5    True  steep   highest    conifer\n",
            "6    True  steep      high  chapparal\n",
            "\n",
            "\n",
            "(7, 4)\n",
            "\n",
            "\n",
            "       stream  slope elevation vegetation\n",
            "count       7      7         7          7\n",
            "unique      2      3         4          3\n",
            "top      True  steep      high  chapparal\n",
            "freq        4      5         3          3\n",
            "\n",
            "\n",
            "   stream  slope elevation vegetation\n",
            "2    True  steep    medium   riparian\n",
            "3   False  steep    medium  chapparal\n",
            "\n",
            "\n",
            "   stream  slope elevation vegetation\n",
            "0   False  steep      high  chapparal\n",
            "2    True  steep    medium   riparian\n",
            "3   False  steep    medium  chapparal\n",
            "5    True  steep   highest    conifer\n",
            "6    True  steep      high  chapparal\n"
          ]
        }
      ]
    },
    {
      "cell_type": "code",
      "source": [
        "import pandas as pd\n",
        "from sklearn import preprocessing\n",
        "\n",
        "url = 'https://raw.githubusercontent.com/akmand/datasets/master/iris.csv'\n",
        "dataframe = pd.read_csv(url)\n",
        "\n",
        "min_max_scaler = preprocessing.MinMaxScaler()\n",
        "dataframe['sepal_length_cm'] = min_max_scaler.fit_transform(dataframe[['sepal_length_cm']])\n",
        "\n",
        "z_score_scaler = preprocessing.StandardScaler()\n",
        "dataframe['sepal_width_cm'] = z_score_scaler.fit_transform(dataframe[['sepal_width_cm']])\n",
        "\n",
        "print(dataframe['sepal_length_cm'], \"\\n\")\n",
        "print(dataframe['sepal_width_cm'])"
      ],
      "metadata": {
        "colab": {
          "base_uri": "https://localhost:8080/"
        },
        "id": "bvFmWELQzWze",
        "outputId": "7b5f2adc-2a4b-446d-d63a-0595a7ac6faa"
      },
      "execution_count": null,
      "outputs": [
        {
          "output_type": "stream",
          "name": "stdout",
          "text": [
            "0      0.222222\n",
            "1      0.166667\n",
            "2      0.111111\n",
            "3      0.083333\n",
            "4      0.194444\n",
            "         ...   \n",
            "145    0.666667\n",
            "146    0.555556\n",
            "147    0.611111\n",
            "148    0.527778\n",
            "149    0.444444\n",
            "Name: sepal_length_cm, Length: 150, dtype: float64 \n",
            "\n",
            "0      1.032057\n",
            "1     -0.124958\n",
            "2      0.337848\n",
            "3      0.106445\n",
            "4      1.263460\n",
            "         ...   \n",
            "145   -0.124958\n",
            "146   -1.281972\n",
            "147   -0.124958\n",
            "148    0.800654\n",
            "149   -0.124958\n",
            "Name: sepal_width_cm, Length: 150, dtype: float64\n"
          ]
        }
      ]
    }
  ]
}